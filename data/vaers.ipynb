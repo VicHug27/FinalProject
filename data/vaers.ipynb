{
 "cells": [
  {
   "cell_type": "code",
   "execution_count": 1,
   "metadata": {},
   "outputs": [],
   "source": [
    "#Import Dependencies\n",
    "import pandas as pd\n",
    "import numpy as np\n",
    "import matplotlib.pyplot as plt\n",
    "import seaborn as sns\n",
    "from pandas import set_option\n",
    "from sklearn import preprocessing\n",
    "from sklearn.ensemble import ExtraTreesClassifier\n",
    "from sklearn import datasets\n",
    "from sklearn.ensemble import RandomForestClassifier\n"
   ]
  },
  {
   "cell_type": "code",
   "execution_count": 2,
   "metadata": {},
   "outputs": [
    {
     "name": "stdout",
     "output_type": "stream",
     "text": [
      "Index(['VAERS_ID', 'RECVDATE', 'STATE', 'AGE_YRS', 'SEX', 'RECOVD', 'VAX_DATE',\n",
      "       'ONSET_DATE', 'ONSETDAYS', 'SymptomQty', 'CovidVaccine', 'agegrp'],\n",
      "      dtype='object')\n"
     ]
    },
    {
     "data": {
      "text/html": [
       "<div>\n",
       "<style scoped>\n",
       "    .dataframe tbody tr th:only-of-type {\n",
       "        vertical-align: middle;\n",
       "    }\n",
       "\n",
       "    .dataframe tbody tr th {\n",
       "        vertical-align: top;\n",
       "    }\n",
       "\n",
       "    .dataframe thead th {\n",
       "        text-align: right;\n",
       "    }\n",
       "</style>\n",
       "<table border=\"1\" class=\"dataframe\">\n",
       "  <thead>\n",
       "    <tr style=\"text-align: right;\">\n",
       "      <th></th>\n",
       "      <th>VAERS_ID</th>\n",
       "      <th>RECVDATE</th>\n",
       "      <th>STATE</th>\n",
       "      <th>AGE_YRS</th>\n",
       "      <th>SEX</th>\n",
       "      <th>RECOVD</th>\n",
       "      <th>VAX_DATE</th>\n",
       "      <th>ONSET_DATE</th>\n",
       "      <th>ONSETDAYS</th>\n",
       "      <th>SymptomQty</th>\n",
       "      <th>CovidVaccine</th>\n",
       "      <th>agegrp</th>\n",
       "    </tr>\n",
       "  </thead>\n",
       "  <tbody>\n",
       "    <tr>\n",
       "      <th>0</th>\n",
       "      <td>902792</td>\n",
       "      <td>12/16/2020</td>\n",
       "      <td>CA</td>\n",
       "      <td>31.0</td>\n",
       "      <td>F</td>\n",
       "      <td>Y</td>\n",
       "      <td>12/16/2020</td>\n",
       "      <td>12/16/2020</td>\n",
       "      <td>0.0</td>\n",
       "      <td>3</td>\n",
       "      <td>Y</td>\n",
       "      <td>30-39</td>\n",
       "    </tr>\n",
       "    <tr>\n",
       "      <th>1</th>\n",
       "      <td>902794</td>\n",
       "      <td>12/16/2020</td>\n",
       "      <td>TX</td>\n",
       "      <td>35.0</td>\n",
       "      <td>M</td>\n",
       "      <td>Y</td>\n",
       "      <td>12/15/2020</td>\n",
       "      <td>12/15/2020</td>\n",
       "      <td>0.0</td>\n",
       "      <td>3</td>\n",
       "      <td>Y</td>\n",
       "      <td>30-39</td>\n",
       "    </tr>\n",
       "    <tr>\n",
       "      <th>2</th>\n",
       "      <td>903165</td>\n",
       "      <td>12/17/2020</td>\n",
       "      <td>TX</td>\n",
       "      <td>35.0</td>\n",
       "      <td>F</td>\n",
       "      <td>Y</td>\n",
       "      <td>12/15/2020</td>\n",
       "      <td>12/15/2020</td>\n",
       "      <td>0.0</td>\n",
       "      <td>3</td>\n",
       "      <td>Y</td>\n",
       "      <td>30-39</td>\n",
       "    </tr>\n",
       "    <tr>\n",
       "      <th>3</th>\n",
       "      <td>904152</td>\n",
       "      <td>12/19/2020</td>\n",
       "      <td>CA</td>\n",
       "      <td>68.0</td>\n",
       "      <td>M</td>\n",
       "      <td>Y</td>\n",
       "      <td>12/19/2020</td>\n",
       "      <td>12/19/2020</td>\n",
       "      <td>0.0</td>\n",
       "      <td>6</td>\n",
       "      <td>Y</td>\n",
       "      <td>60-69</td>\n",
       "    </tr>\n",
       "    <tr>\n",
       "      <th>4</th>\n",
       "      <td>904450</td>\n",
       "      <td>12/20/2020</td>\n",
       "      <td>TX</td>\n",
       "      <td>44.0</td>\n",
       "      <td>M</td>\n",
       "      <td>N</td>\n",
       "      <td>12/15/2020</td>\n",
       "      <td>12/16/2020</td>\n",
       "      <td>1.0</td>\n",
       "      <td>3</td>\n",
       "      <td>Y</td>\n",
       "      <td>40-49</td>\n",
       "    </tr>\n",
       "    <tr>\n",
       "      <th>...</th>\n",
       "      <td>...</td>\n",
       "      <td>...</td>\n",
       "      <td>...</td>\n",
       "      <td>...</td>\n",
       "      <td>...</td>\n",
       "      <td>...</td>\n",
       "      <td>...</td>\n",
       "      <td>...</td>\n",
       "      <td>...</td>\n",
       "      <td>...</td>\n",
       "      <td>...</td>\n",
       "      <td>...</td>\n",
       "    </tr>\n",
       "    <tr>\n",
       "      <th>84990</th>\n",
       "      <td>1514787</td>\n",
       "      <td>7/30/2021</td>\n",
       "      <td>CA</td>\n",
       "      <td>72.0</td>\n",
       "      <td>F</td>\n",
       "      <td>Y</td>\n",
       "      <td>2/1/2021</td>\n",
       "      <td>2/1/2021</td>\n",
       "      <td>0.0</td>\n",
       "      <td>10</td>\n",
       "      <td>Y</td>\n",
       "      <td>70+</td>\n",
       "    </tr>\n",
       "    <tr>\n",
       "      <th>84991</th>\n",
       "      <td>1514803</td>\n",
       "      <td>7/30/2021</td>\n",
       "      <td>FL</td>\n",
       "      <td>80.0</td>\n",
       "      <td>F</td>\n",
       "      <td>N</td>\n",
       "      <td>3/18/2021</td>\n",
       "      <td>3/19/2021</td>\n",
       "      <td>1.0</td>\n",
       "      <td>14</td>\n",
       "      <td>Y</td>\n",
       "      <td>70+</td>\n",
       "    </tr>\n",
       "    <tr>\n",
       "      <th>84992</th>\n",
       "      <td>1514811</td>\n",
       "      <td>7/30/2021</td>\n",
       "      <td>FL</td>\n",
       "      <td>56.0</td>\n",
       "      <td>M</td>\n",
       "      <td>N</td>\n",
       "      <td>5/21/2021</td>\n",
       "      <td>6/2/2021</td>\n",
       "      <td>12.0</td>\n",
       "      <td>4</td>\n",
       "      <td>Y</td>\n",
       "      <td>50-59</td>\n",
       "    </tr>\n",
       "    <tr>\n",
       "      <th>84993</th>\n",
       "      <td>1514817</td>\n",
       "      <td>7/30/2021</td>\n",
       "      <td>FL</td>\n",
       "      <td>72.0</td>\n",
       "      <td>M</td>\n",
       "      <td>N</td>\n",
       "      <td>2/11/2021</td>\n",
       "      <td>4/1/2021</td>\n",
       "      <td>49.0</td>\n",
       "      <td>8</td>\n",
       "      <td>Y</td>\n",
       "      <td>70+</td>\n",
       "    </tr>\n",
       "    <tr>\n",
       "      <th>84994</th>\n",
       "      <td>1514855</td>\n",
       "      <td>7/30/2021</td>\n",
       "      <td>CA</td>\n",
       "      <td>25.0</td>\n",
       "      <td>F</td>\n",
       "      <td>Y</td>\n",
       "      <td>7/29/2021</td>\n",
       "      <td>7/29/2021</td>\n",
       "      <td>0.0</td>\n",
       "      <td>3</td>\n",
       "      <td>Y</td>\n",
       "      <td>20-29</td>\n",
       "    </tr>\n",
       "  </tbody>\n",
       "</table>\n",
       "<p>84995 rows × 12 columns</p>\n",
       "</div>"
      ],
      "text/plain": [
       "       VAERS_ID    RECVDATE STATE  AGE_YRS SEX RECOVD    VAX_DATE  ONSET_DATE  \\\n",
       "0        902792  12/16/2020    CA     31.0   F      Y  12/16/2020  12/16/2020   \n",
       "1        902794  12/16/2020    TX     35.0   M      Y  12/15/2020  12/15/2020   \n",
       "2        903165  12/17/2020    TX     35.0   F      Y  12/15/2020  12/15/2020   \n",
       "3        904152  12/19/2020    CA     68.0   M      Y  12/19/2020  12/19/2020   \n",
       "4        904450  12/20/2020    TX     44.0   M      N  12/15/2020  12/16/2020   \n",
       "...         ...         ...   ...      ...  ..    ...         ...         ...   \n",
       "84990   1514787   7/30/2021    CA     72.0   F      Y    2/1/2021    2/1/2021   \n",
       "84991   1514803   7/30/2021    FL     80.0   F      N   3/18/2021   3/19/2021   \n",
       "84992   1514811   7/30/2021    FL     56.0   M      N   5/21/2021    6/2/2021   \n",
       "84993   1514817   7/30/2021    FL     72.0   M      N   2/11/2021    4/1/2021   \n",
       "84994   1514855   7/30/2021    CA     25.0   F      Y   7/29/2021   7/29/2021   \n",
       "\n",
       "       ONSETDAYS  SymptomQty CovidVaccine agegrp  \n",
       "0            0.0           3            Y  30-39  \n",
       "1            0.0           3            Y  30-39  \n",
       "2            0.0           3            Y  30-39  \n",
       "3            0.0           6            Y  60-69  \n",
       "4            1.0           3            Y  40-49  \n",
       "...          ...         ...          ...    ...  \n",
       "84990        0.0          10            Y    70+  \n",
       "84991        1.0          14            Y    70+  \n",
       "84992       12.0           4            Y  50-59  \n",
       "84993       49.0           8            Y    70+  \n",
       "84994        0.0           3            Y  20-29  \n",
       "\n",
       "[84995 rows x 12 columns]"
      ]
     },
     "execution_count": 2,
     "metadata": {},
     "output_type": "execute_result"
    }
   ],
   "source": [
    "#Import vaers data\n",
    "data = pd.read_csv(r\"C:\\Users\\vicki\\Desktop\\FinalProject\\finalprojectsite\\vaers.csv\")\n",
    "print(data.columns)\n",
    "data"
   ]
  },
  {
   "cell_type": "code",
   "execution_count": 3,
   "metadata": {},
   "outputs": [
    {
     "name": "stdout",
     "output_type": "stream",
     "text": [
      "(84995, 12)\n"
     ]
    }
   ],
   "source": [
    "#Total rows and columns\n",
    "print(data.shape)"
   ]
  },
  {
   "cell_type": "code",
   "execution_count": 4,
   "metadata": {},
   "outputs": [
    {
     "name": "stdout",
     "output_type": "stream",
     "text": [
      "           VAERS_ID       AGE_YRS     ONSETDAYS    SymptomQty\n",
      "count  8.499500e+04  84995.000000  84070.000000  84995.000000\n",
      "mean   1.177463e+06     48.712881      4.582086      4.459909\n",
      "std    1.650100e+05     18.169647     14.170117      3.735439\n",
      "min    9.025140e+05      0.080000      0.000000      1.000000\n",
      "25%    1.037823e+06     35.000000      0.000000      2.000000\n",
      "50%    1.169752e+06     49.000000      1.000000      4.000000\n",
      "75%    1.304664e+06     63.000000      3.000000      6.000000\n",
      "max    1.514855e+06    105.000000    406.000000     96.000000\n"
     ]
    }
   ],
   "source": [
    "#Vaers Data Stats\n",
    "print(data.describe())"
   ]
  },
  {
   "cell_type": "code",
   "execution_count": 5,
   "metadata": {},
   "outputs": [
    {
     "data": {
      "text/html": [
       "<div>\n",
       "<style scoped>\n",
       "    .dataframe tbody tr th:only-of-type {\n",
       "        vertical-align: middle;\n",
       "    }\n",
       "\n",
       "    .dataframe tbody tr th {\n",
       "        vertical-align: top;\n",
       "    }\n",
       "\n",
       "    .dataframe thead tr th {\n",
       "        text-align: left;\n",
       "    }\n",
       "</style>\n",
       "<table border=\"1\" class=\"dataframe\">\n",
       "  <thead>\n",
       "    <tr>\n",
       "      <th></th>\n",
       "      <th>agegrp</th>\n",
       "      <th>CovidVaccine</th>\n",
       "    </tr>\n",
       "    <tr>\n",
       "      <th></th>\n",
       "      <th></th>\n",
       "      <th>count</th>\n",
       "    </tr>\n",
       "  </thead>\n",
       "  <tbody>\n",
       "    <tr>\n",
       "      <th>0</th>\n",
       "      <td>0-12</td>\n",
       "      <td>381</td>\n",
       "    </tr>\n",
       "    <tr>\n",
       "      <th>1</th>\n",
       "      <td>13-19</td>\n",
       "      <td>4473</td>\n",
       "    </tr>\n",
       "    <tr>\n",
       "      <th>2</th>\n",
       "      <td>20-29</td>\n",
       "      <td>9138</td>\n",
       "    </tr>\n",
       "    <tr>\n",
       "      <th>3</th>\n",
       "      <td>30-39</td>\n",
       "      <td>14862</td>\n",
       "    </tr>\n",
       "    <tr>\n",
       "      <th>4</th>\n",
       "      <td>40-49</td>\n",
       "      <td>15048</td>\n",
       "    </tr>\n",
       "    <tr>\n",
       "      <th>5</th>\n",
       "      <td>50-59</td>\n",
       "      <td>14848</td>\n",
       "    </tr>\n",
       "    <tr>\n",
       "      <th>6</th>\n",
       "      <td>60-69</td>\n",
       "      <td>14108</td>\n",
       "    </tr>\n",
       "    <tr>\n",
       "      <th>7</th>\n",
       "      <td>70+</td>\n",
       "      <td>12137</td>\n",
       "    </tr>\n",
       "  </tbody>\n",
       "</table>\n",
       "</div>"
      ],
      "text/plain": [
       "  agegrp CovidVaccine\n",
       "                count\n",
       "0   0-12          381\n",
       "1  13-19         4473\n",
       "2  20-29         9138\n",
       "3  30-39        14862\n",
       "4  40-49        15048\n",
       "5  50-59        14848\n",
       "6  60-69        14108\n",
       "7    70+        12137"
      ]
     },
     "execution_count": 5,
     "metadata": {},
     "output_type": "execute_result"
    }
   ],
   "source": [
    "#Total VAERS submissions for Covid vaccine side effects\n",
    "df1 = data.groupby('agegrp').agg({'CovidVaccine':['count']}).reset_index()\n",
    "df1"
   ]
  },
  {
   "cell_type": "code",
   "execution_count": 6,
   "metadata": {},
   "outputs": [],
   "source": [
    "#VAERS submissions dataset by Actual Age\n",
    "df2 = data.groupby('AGE_YRS').agg({'CovidVaccine':['count']}).reset_index()"
   ]
  },
  {
   "cell_type": "code",
   "execution_count": 14,
   "metadata": {},
   "outputs": [
    {
     "data": {
      "image/png": "[encoded data removed]",
      "text/plain": [
       "<Figure size 432x288 with 1 Axes>"
      ]
     },
     "metadata": {
      "needs_background": "light"
     },
     "output_type": "display_data"
    }
   ],
   "source": [
    "#Vaers submissions by actual age chart\n",
    "df2.plot(kind='scatter',x='AGE_YRS',y='CovidVaccine',color='green')\n",
    "plt.show()"
   ]
  },
  {
   "cell_type": "code",
   "execution_count": 8,
   "metadata": {},
   "outputs": [],
   "source": [
    "#Vaers grouped by age range data\n",
    "df3 = data.groupby('agegrp').agg({'CovidVaccine':['count']}).reset_index()"
   ]
  },
  {
   "cell_type": "code",
   "execution_count": 15,
   "metadata": {},
   "outputs": [
    {
     "data": {
      "image/png": "[encoded data removed]",
      "text/plain": [
       "<Figure size 432x288 with 1 Axes>"
      ]
     },
     "metadata": {
      "needs_background": "light"
     },
     "output_type": "display_data"
    }
   ],
   "source": [
    "#Vaers grouped by age range chart\n",
    "df3.plot(kind='scatter',x='agegrp',y='CovidVaccine',color='orange')\n",
    "plt.show()"
   ]
  },
  {
   "cell_type": "code",
   "execution_count": 10,
   "metadata": {},
   "outputs": [],
   "source": [
    "#Average Onset Days Data  by age grouping\n",
    "df4 = data.groupby('agegrp').agg({'ONSETDAYS':['mean']}).reset_index()"
   ]
  },
  {
   "cell_type": "code",
   "execution_count": 11,
   "metadata": {},
   "outputs": [
    {
     "data": {
      "image/png": "[encoded data removed]",
      "text/plain": [
       "<Figure size 432x288 with 1 Axes>"
      ]
     },
     "metadata": {
      "needs_background": "light"
     },
     "output_type": "display_data"
    }
   ],
   "source": [
    "#Average Onset Days Plot by age grouping\n",
    "df4.plot(kind='scatter',x='agegrp',y='ONSETDAYS',color='blue')\n",
    "plt.show()"
   ]
  },
  {
   "cell_type": "code",
   "execution_count": 12,
   "metadata": {},
   "outputs": [
    {
     "data": {
      "text/html": [
       "<div>\n",
       "<style scoped>\n",
       "    .dataframe tbody tr th:only-of-type {\n",
       "        vertical-align: middle;\n",
       "    }\n",
       "\n",
       "    .dataframe tbody tr th {\n",
       "        vertical-align: top;\n",
       "    }\n",
       "\n",
       "    .dataframe thead th {\n",
       "        text-align: right;\n",
       "    }\n",
       "</style>\n",
       "<table border=\"1\" class=\"dataframe\">\n",
       "  <thead>\n",
       "    <tr style=\"text-align: right;\">\n",
       "      <th>SEX</th>\n",
       "      <th>F</th>\n",
       "      <th>M</th>\n",
       "      <th>U</th>\n",
       "    </tr>\n",
       "    <tr>\n",
       "      <th>agegrp</th>\n",
       "      <th></th>\n",
       "      <th></th>\n",
       "      <th></th>\n",
       "    </tr>\n",
       "  </thead>\n",
       "  <tbody>\n",
       "    <tr>\n",
       "      <th>0-12</th>\n",
       "      <td>182</td>\n",
       "      <td>188</td>\n",
       "      <td>11</td>\n",
       "    </tr>\n",
       "    <tr>\n",
       "      <th>13-19</th>\n",
       "      <td>2435</td>\n",
       "      <td>1979</td>\n",
       "      <td>59</td>\n",
       "    </tr>\n",
       "    <tr>\n",
       "      <th>20-29</th>\n",
       "      <td>6250</td>\n",
       "      <td>2841</td>\n",
       "      <td>47</td>\n",
       "    </tr>\n",
       "    <tr>\n",
       "      <th>30-39</th>\n",
       "      <td>11010</td>\n",
       "      <td>3794</td>\n",
       "      <td>58</td>\n",
       "    </tr>\n",
       "    <tr>\n",
       "      <th>40-49</th>\n",
       "      <td>11489</td>\n",
       "      <td>3507</td>\n",
       "      <td>52</td>\n",
       "    </tr>\n",
       "    <tr>\n",
       "      <th>50-59</th>\n",
       "      <td>11020</td>\n",
       "      <td>3784</td>\n",
       "      <td>44</td>\n",
       "    </tr>\n",
       "    <tr>\n",
       "      <th>60-69</th>\n",
       "      <td>10120</td>\n",
       "      <td>3935</td>\n",
       "      <td>53</td>\n",
       "    </tr>\n",
       "    <tr>\n",
       "      <th>70+</th>\n",
       "      <td>8291</td>\n",
       "      <td>3807</td>\n",
       "      <td>39</td>\n",
       "    </tr>\n",
       "  </tbody>\n",
       "</table>\n",
       "</div>"
      ],
      "text/plain": [
       "SEX         F     M   U\n",
       "agegrp                 \n",
       "0-12      182   188  11\n",
       "13-19    2435  1979  59\n",
       "20-29    6250  2841  47\n",
       "30-39   11010  3794  58\n",
       "40-49   11489  3507  52\n",
       "50-59   11020  3784  44\n",
       "60-69   10120  3935  53\n",
       "70+      8291  3807  39"
      ]
     },
     "execution_count": 12,
     "metadata": {},
     "output_type": "execute_result"
    }
   ],
   "source": [
    "df5 = data.groupby(['agegrp', 'SEX']).agegrp.count().unstack()\n",
    "df5"
   ]
  },
  {
   "cell_type": "code",
   "execution_count": 13,
   "metadata": {},
   "outputs": [
    {
     "data": {
      "image/png": "[encoded data removed]",
      "text/plain": [
       "<Figure size 432x288 with 1 Axes>"
      ]
     },
     "metadata": {
      "needs_background": "light"
     },
     "output_type": "display_data"
    }
   ],
   "source": [
    "data[\"SEX\"].value_counts().plot.bar(color=['blue', 'green', 'orange'], title='Vaers Submissions by Gender',);"
   ]
  },
  {
   "cell_type": "code",
   "execution_count": null,
   "metadata": {},
   "outputs": [],
   "source": []
  }
 ],
 "metadata": {
  "interpreter": {
   "hash": "b2deb1ca582f2f315f5c14bfb8822b8cc82fd096d04b2168e62aa13c2f44030d"
  },
  "kernelspec": {
   "display_name": "Python 3",
   "language": "python",
   "name": "python3"
  },
  "language_info": {
   "codemirror_mode": {
    "name": "ipython",
    "version": 3
   },
   "file_extension": ".py",
   "mimetype": "text/x-python",
   "name": "python",
   "nbconvert_exporter": "python",
   "pygments_lexer": "ipython3",
   "version": "3.8.5"
  }
 },
 "nbformat": 4,
 "nbformat_minor": 2
}
